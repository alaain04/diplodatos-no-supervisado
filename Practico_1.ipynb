{
 "cells": [
  {
   "cell_type": "markdown",
   "metadata": {},
   "source": [
    "## Aprendizaje de reglas de asociación"
   ]
  },
  {
   "cell_type": "code",
   "execution_count": 1,
   "metadata": {},
   "outputs": [],
   "source": [
    "import pandas as pd\n",
    "import numpy as np\n",
    "import sys\n",
    "from itertools import combinations, groupby\n",
    "from collections import Counter\n",
    "from IPython.display import display"
   ]
  },
  {
   "cell_type": "code",
   "execution_count": 93,
   "metadata": {},
   "outputs": [],
   "source": [
    "df_ratings = pd.read_csv('./ml-20m/ratings.csv')\n",
    "df_movies = pd.read_csv('./ml-20m/movies.csv')"
   ]
  },
  {
   "cell_type": "code",
   "execution_count": 94,
   "metadata": {},
   "outputs": [
    {
     "data": {
      "text/html": [
       "<div>\n",
       "<style scoped>\n",
       "    .dataframe tbody tr th:only-of-type {\n",
       "        vertical-align: middle;\n",
       "    }\n",
       "\n",
       "    .dataframe tbody tr th {\n",
       "        vertical-align: top;\n",
       "    }\n",
       "\n",
       "    .dataframe thead th {\n",
       "        text-align: right;\n",
       "    }\n",
       "</style>\n",
       "<table border=\"1\" class=\"dataframe\">\n",
       "  <thead>\n",
       "    <tr style=\"text-align: right;\">\n",
       "      <th></th>\n",
       "      <th>userId</th>\n",
       "      <th>movieId</th>\n",
       "      <th>rating</th>\n",
       "      <th>timestamp</th>\n",
       "    </tr>\n",
       "  </thead>\n",
       "  <tbody>\n",
       "    <tr>\n",
       "      <th>0</th>\n",
       "      <td>1</td>\n",
       "      <td>2</td>\n",
       "      <td>3.5</td>\n",
       "      <td>1112486027</td>\n",
       "    </tr>\n",
       "    <tr>\n",
       "      <th>1</th>\n",
       "      <td>1</td>\n",
       "      <td>29</td>\n",
       "      <td>3.5</td>\n",
       "      <td>1112484676</td>\n",
       "    </tr>\n",
       "    <tr>\n",
       "      <th>2</th>\n",
       "      <td>1</td>\n",
       "      <td>32</td>\n",
       "      <td>3.5</td>\n",
       "      <td>1112484819</td>\n",
       "    </tr>\n",
       "    <tr>\n",
       "      <th>3</th>\n",
       "      <td>1</td>\n",
       "      <td>47</td>\n",
       "      <td>3.5</td>\n",
       "      <td>1112484727</td>\n",
       "    </tr>\n",
       "    <tr>\n",
       "      <th>4</th>\n",
       "      <td>1</td>\n",
       "      <td>50</td>\n",
       "      <td>3.5</td>\n",
       "      <td>1112484580</td>\n",
       "    </tr>\n",
       "  </tbody>\n",
       "</table>\n",
       "</div>"
      ],
      "text/plain": [
       "   userId  movieId  rating   timestamp\n",
       "0       1        2     3.5  1112486027\n",
       "1       1       29     3.5  1112484676\n",
       "2       1       32     3.5  1112484819\n",
       "3       1       47     3.5  1112484727\n",
       "4       1       50     3.5  1112484580"
      ]
     },
     "metadata": {},
     "output_type": "display_data"
    },
    {
     "data": {
      "text/html": [
       "<div>\n",
       "<style scoped>\n",
       "    .dataframe tbody tr th:only-of-type {\n",
       "        vertical-align: middle;\n",
       "    }\n",
       "\n",
       "    .dataframe tbody tr th {\n",
       "        vertical-align: top;\n",
       "    }\n",
       "\n",
       "    .dataframe thead th {\n",
       "        text-align: right;\n",
       "    }\n",
       "</style>\n",
       "<table border=\"1\" class=\"dataframe\">\n",
       "  <thead>\n",
       "    <tr style=\"text-align: right;\">\n",
       "      <th></th>\n",
       "      <th>movieId</th>\n",
       "      <th>title</th>\n",
       "      <th>genres</th>\n",
       "    </tr>\n",
       "  </thead>\n",
       "  <tbody>\n",
       "    <tr>\n",
       "      <th>0</th>\n",
       "      <td>1</td>\n",
       "      <td>Toy Story (1995)</td>\n",
       "      <td>Adventure|Animation|Children|Comedy|Fantasy</td>\n",
       "    </tr>\n",
       "    <tr>\n",
       "      <th>1</th>\n",
       "      <td>2</td>\n",
       "      <td>Jumanji (1995)</td>\n",
       "      <td>Adventure|Children|Fantasy</td>\n",
       "    </tr>\n",
       "    <tr>\n",
       "      <th>2</th>\n",
       "      <td>3</td>\n",
       "      <td>Grumpier Old Men (1995)</td>\n",
       "      <td>Comedy|Romance</td>\n",
       "    </tr>\n",
       "    <tr>\n",
       "      <th>3</th>\n",
       "      <td>4</td>\n",
       "      <td>Waiting to Exhale (1995)</td>\n",
       "      <td>Comedy|Drama|Romance</td>\n",
       "    </tr>\n",
       "    <tr>\n",
       "      <th>4</th>\n",
       "      <td>5</td>\n",
       "      <td>Father of the Bride Part II (1995)</td>\n",
       "      <td>Comedy</td>\n",
       "    </tr>\n",
       "  </tbody>\n",
       "</table>\n",
       "</div>"
      ],
      "text/plain": [
       "   movieId                               title  \\\n",
       "0        1                    Toy Story (1995)   \n",
       "1        2                      Jumanji (1995)   \n",
       "2        3             Grumpier Old Men (1995)   \n",
       "3        4            Waiting to Exhale (1995)   \n",
       "4        5  Father of the Bride Part II (1995)   \n",
       "\n",
       "                                        genres  \n",
       "0  Adventure|Animation|Children|Comedy|Fantasy  \n",
       "1                   Adventure|Children|Fantasy  \n",
       "2                               Comedy|Romance  \n",
       "3                         Comedy|Drama|Romance  \n",
       "4                                       Comedy  "
      ]
     },
     "metadata": {},
     "output_type": "display_data"
    }
   ],
   "source": [
    "display(df_ratings.head())\n",
    "display(df_movies.head())"
   ]
  },
  {
   "cell_type": "code",
   "execution_count": 95,
   "metadata": {},
   "outputs": [],
   "source": [
    "df_ratings = df_ratings[df_ratings['rating']>3]\n",
    "#df_ratings = df_ratings.sample(df_ratings.shape[0]//10)"
   ]
  },
  {
   "cell_type": "code",
   "execution_count": 107,
   "metadata": {},
   "outputs": [
    {
     "data": {
      "text/html": [
       "<div>\n",
       "<style scoped>\n",
       "    .dataframe tbody tr th:only-of-type {\n",
       "        vertical-align: middle;\n",
       "    }\n",
       "\n",
       "    .dataframe tbody tr th {\n",
       "        vertical-align: top;\n",
       "    }\n",
       "\n",
       "    .dataframe thead th {\n",
       "        text-align: right;\n",
       "    }\n",
       "</style>\n",
       "<table border=\"1\" class=\"dataframe\">\n",
       "  <thead>\n",
       "    <tr style=\"text-align: right;\">\n",
       "      <th></th>\n",
       "      <th>userId</th>\n",
       "      <th>movieId</th>\n",
       "      <th>rating</th>\n",
       "      <th>timestamp</th>\n",
       "      <th>title</th>\n",
       "      <th>genres</th>\n",
       "    </tr>\n",
       "  </thead>\n",
       "  <tbody>\n",
       "    <tr>\n",
       "      <th>0</th>\n",
       "      <td>1</td>\n",
       "      <td>2</td>\n",
       "      <td>3.5</td>\n",
       "      <td>1112486027</td>\n",
       "      <td>Jumanji (1995)</td>\n",
       "      <td>Adventure|Children|Fantasy</td>\n",
       "    </tr>\n",
       "    <tr>\n",
       "      <th>1</th>\n",
       "      <td>91</td>\n",
       "      <td>2</td>\n",
       "      <td>3.5</td>\n",
       "      <td>1112061358</td>\n",
       "      <td>Jumanji (1995)</td>\n",
       "      <td>Adventure|Children|Fantasy</td>\n",
       "    </tr>\n",
       "    <tr>\n",
       "      <th>2</th>\n",
       "      <td>119</td>\n",
       "      <td>2</td>\n",
       "      <td>4.0</td>\n",
       "      <td>845110667</td>\n",
       "      <td>Jumanji (1995)</td>\n",
       "      <td>Adventure|Children|Fantasy</td>\n",
       "    </tr>\n",
       "    <tr>\n",
       "      <th>3</th>\n",
       "      <td>142</td>\n",
       "      <td>2</td>\n",
       "      <td>4.0</td>\n",
       "      <td>833458658</td>\n",
       "      <td>Jumanji (1995)</td>\n",
       "      <td>Adventure|Children|Fantasy</td>\n",
       "    </tr>\n",
       "    <tr>\n",
       "      <th>4</th>\n",
       "      <td>156</td>\n",
       "      <td>2</td>\n",
       "      <td>5.0</td>\n",
       "      <td>1040937649</td>\n",
       "      <td>Jumanji (1995)</td>\n",
       "      <td>Adventure|Children|Fantasy</td>\n",
       "    </tr>\n",
       "  </tbody>\n",
       "</table>\n",
       "</div>"
      ],
      "text/plain": [
       "   userId  movieId  rating   timestamp           title  \\\n",
       "0       1        2     3.5  1112486027  Jumanji (1995)   \n",
       "1      91        2     3.5  1112061358  Jumanji (1995)   \n",
       "2     119        2     4.0   845110667  Jumanji (1995)   \n",
       "3     142        2     4.0   833458658  Jumanji (1995)   \n",
       "4     156        2     5.0  1040937649  Jumanji (1995)   \n",
       "\n",
       "                       genres  \n",
       "0  Adventure|Children|Fantasy  \n",
       "1  Adventure|Children|Fantasy  \n",
       "2  Adventure|Children|Fantasy  \n",
       "3  Adventure|Children|Fantasy  \n",
       "4  Adventure|Children|Fantasy  "
      ]
     },
     "metadata": {},
     "output_type": "display_data"
    },
    {
     "data": {
      "text/plain": [
       "array([[1, 'Jumanji (1995)'],\n",
       "       [1, 'Untouchables, The (1987)'],\n",
       "       [1, 'Willow (1988)'],\n",
       "       ...,\n",
       "       [138493, 'Starship Troopers (1997)'],\n",
       "       [138493, 'Man on the Moon (1999)'],\n",
       "       [138493, 'Pinocchio (1940)']], dtype=object)"
      ]
     },
     "metadata": {},
     "output_type": "display_data"
    }
   ],
   "source": [
    "df = df_ratings.merge(df_movies,left_on='movieId', right_on='movieId', how= \"inner\")\n",
    "display(df.head())\n",
    "df= df.sort_values( by='userId', axis=0, ascending=True, inplace=False, kind='quicksort', na_position='last')\n",
    "df=df.values[:,[0,4]]\n",
    "display(df)"
   ]
  },
  {
   "cell_type": "code",
   "execution_count": 108,
   "metadata": {},
   "outputs": [],
   "source": [
    "def size(obj):\n",
    "    return \"{0:.2f} MB\".format(sys.getsizeof(obj) / (1000 * 1000))"
   ]
  },
  {
   "cell_type": "code",
   "execution_count": 109,
   "metadata": {},
   "outputs": [
    {
     "name": "stdout",
     "output_type": "stream",
     "text": [
      "Movies -- dimensions: (12195566, 2);   size: 0.00 MB\n"
     ]
    }
   ],
   "source": [
    "print('Movies -- dimensions: {0};   size: {1}'.format(df.shape, size(df)))"
   ]
  },
  {
   "cell_type": "code",
   "execution_count": 110,
   "metadata": {},
   "outputs": [
    {
     "name": "stderr",
     "output_type": "stream",
     "text": [
      "IOPub data rate exceeded.\n",
      "The notebook server will temporarily stop sending output\n",
      "to the client in order to avoid crashing it.\n",
      "To change this limit, set the config variable\n",
      "`--NotebookApp.iopub_data_rate_limit`.\n",
      "\n",
      "Current values:\n",
      "NotebookApp.iopub_data_rate_limit=1000000.0 (bytes/sec)\n",
      "NotebookApp.rate_limit_window=3.0 (secs)\n",
      "\n"
     ]
    }
   ],
   "source": [
    "transactions=[]\n",
    "for user_id, movie in groupby(df, lambda x: x[0]):\n",
    "    transactions.append([item[1] for item in movie])\n",
    "print(transactions)\n",
    "#con toda la base..\n",
    "#IOPub data rate exceeded.\n",
    "#The notebook server will temporarily stop sending output"
   ]
  },
  {
   "cell_type": "code",
   "execution_count": 120,
   "metadata": {},
   "outputs": [],
   "source": [
    "from efficient_apriori import apriori\n",
    "#wARNING-CUIDADO!! no poner min_support pequeño como por ejempo 0.001!!\n",
    "#min_support y min_confiden entre 0 y 1  \n",
    "itemsets, rules = apriori(transactions, min_support=0.2,  min_confidence=0.5)"
   ]
  },
  {
   "cell_type": "code",
   "execution_count": 121,
   "metadata": {},
   "outputs": [
    {
     "name": "stdout",
     "output_type": "stream",
     "text": [
      "{Shawshank Redemption, The (1994)} -> {Usual Suspects, The (1995)} (conf: 0.509, supp: 0.214, lift: 1.674, conv: 1.418)\n",
      "{Shawshank Redemption, The (1994)} -> {Schindler's List (1993)} (conf: 0.512, supp: 0.215, lift: 1.607, conv: 1.396)\n",
      "{Pulp Fiction (1994)} -> {Usual Suspects, The (1995)} (conf: 0.537, supp: 0.214, lift: 1.763, conv: 1.501)\n",
      "{Pulp Fiction (1994)} -> {Forrest Gump (1994)} (conf: 0.541, supp: 0.216, lift: 1.448, conv: 1.365)\n",
      "{Shawshank Redemption, The (1994)} -> {Forrest Gump (1994)} (conf: 0.550, supp: 0.231, lift: 1.471, conv: 1.391)\n",
      "{Silence of the Lambs, The (1991)} -> {Forrest Gump (1994)} (conf: 0.564, supp: 0.220, lift: 1.508, conv: 1.435)\n",
      "{Forrest Gump (1994)} -> {Pulp Fiction (1994)} (conf: 0.578, supp: 0.216, lift: 1.448, conv: 1.424)\n",
      "{Forrest Gump (1994)} -> {Silence of the Lambs, The (1991)} (conf: 0.589, supp: 0.220, lift: 1.508, conv: 1.483)\n",
      "{Shawshank Redemption, The (1994)} -> {Silence of the Lambs, The (1991)} (conf: 0.600, supp: 0.252, lift: 1.537, conv: 1.524)\n",
      "{Shawshank Redemption, The (1994)} -> {Pulp Fiction (1994)} (conf: 0.608, supp: 0.256, lift: 1.523, conv: 1.533)\n",
      "{Forrest Gump (1994)} -> {Shawshank Redemption, The (1994)} (conf: 0.619, supp: 0.231, lift: 1.471, conv: 1.520)\n",
      "{Pulp Fiction (1994)} -> {Silence of the Lambs, The (1991)} (conf: 0.640, supp: 0.256, lift: 1.640, conv: 1.695)\n",
      "{Pulp Fiction (1994)} -> {Shawshank Redemption, The (1994)} (conf: 0.641, supp: 0.256, lift: 1.523, conv: 1.612)\n",
      "{Silence of the Lambs, The (1991)} -> {Shawshank Redemption, The (1994)} (conf: 0.647, supp: 0.252, lift: 1.537, conv: 1.639)\n",
      "{Silence of the Lambs, The (1991)} -> {Pulp Fiction (1994)} (conf: 0.655, supp: 0.256, lift: 1.640, conv: 1.741)\n",
      "{Star Wars: Episode IV - A New Hope (1977)} -> {Star Wars: Episode VI - Return of the Jedi (1983)} (conf: 0.661, supp: 0.218, lift: 2.496, conv: 2.170)\n",
      "{Schindler's List (1993)} -> {Shawshank Redemption, The (1994)} (conf: 0.676, supp: 0.215, lift: 1.607, conv: 1.789)\n",
      "{Star Wars: Episode IV - A New Hope (1977)} -> {Star Wars: Episode V - The Empire Strikes Back (1980)} (conf: 0.703, supp: 0.231, lift: 2.536, conv: 2.432)\n",
      "{Usual Suspects, The (1995)} -> {Shawshank Redemption, The (1994)} (conf: 0.704, supp: 0.214, lift: 1.674, conv: 1.958)\n",
      "{Usual Suspects, The (1995)} -> {Pulp Fiction (1994)} (conf: 0.704, supp: 0.214, lift: 1.763, conv: 2.031)\n",
      "{Star Wars: Episode V - The Empire Strikes Back (1980)} -> {Star Wars: Episode VI - Return of the Jedi (1983)} (conf: 0.726, supp: 0.201, lift: 2.740, conv: 2.681)\n",
      "{Star Wars: Episode VI - Return of the Jedi (1983)} -> {Star Wars: Episode V - The Empire Strikes Back (1980)} (conf: 0.760, supp: 0.201, lift: 2.740, conv: 3.006)\n",
      "{Star Wars: Episode VI - Return of the Jedi (1983)} -> {Star Wars: Episode IV - A New Hope (1977)} (conf: 0.822, supp: 0.218, lift: 2.496, conv: 3.773)\n",
      "{Star Wars: Episode V - The Empire Strikes Back (1980)} -> {Star Wars: Episode IV - A New Hope (1977)} (conf: 0.835, supp: 0.231, lift: 2.536, conv: 4.068)\n"
     ]
    }
   ],
   "source": [
    "#rules = filter(lambda rule: len(rule.lhs) == 2 and len(rule.rhs) == 1, rules)\n",
    "rules=sorted(rules, key=lambda rule: rule.confidence)\n",
    "for rule in rules:\n",
    "  print(rule) # Prints the rule and its confidence, support, lift, ..."
   ]
  },
  {
   "cell_type": "markdown",
   "metadata": {},
   "source": [
    "# Informe\n",
    "Inicialmente, y a modo de reducción del dataset, se obtuvieron únicamente las películas vistas con un rating mayor a 2, con esto logramos que el procesamiento sea posible con un hardware limitado.\n",
    "Las reglas de asociación se obtuvieron limitando el soporte mínimo a 0.2, es decir, la película debe aparecer al menos en un 20% de las transacciones utilizadas. \n",
    "Todas las asociaciones encontradas tienen una confidencia mayor a 0.5 (parámetro establecido como métrica), indicando que se observa la misma en al menos en el 50% de las transacciones.\n",
    "En todos los casos, el lift supera a 1, esto nos da un indicador del grado de dependencia entre el antecedente y el consecuente, mientras mayor sea, mayor será la dependencia. Inclusive podemos observar que a mayor grado de confidencia, mayor grado del lift.\n",
    "Finalmente, la convicción elevada nos da el grado de ocurrencias del presedente sin el consecuente mostrado, esto puede darse  o bien porque el presedente tiene muchas otras relaciones que se dan con un soporte bajo."
   ]
  }
 ],
 "metadata": {
  "kernelspec": {
   "display_name": "Python 3",
   "language": "python",
   "name": "python3"
  },
  "language_info": {
   "codemirror_mode": {
    "name": "ipython",
    "version": 3
   },
   "file_extension": ".py",
   "mimetype": "text/x-python",
   "name": "python",
   "nbconvert_exporter": "python",
   "pygments_lexer": "ipython3",
   "version": "3.7.3"
  }
 },
 "nbformat": 4,
 "nbformat_minor": 2
}
